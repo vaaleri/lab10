{
  "nbformat": 4,
  "nbformat_minor": 0,
  "metadata": {
    "kernelspec": {
      "display_name": "Python 3",
      "language": "python",
      "name": "python3"
    },
    "language_info": {
      "codemirror_mode": {
        "name": "ipython",
        "version": 2
      },
      "file_extension": ".py",
      "mimetype": "text/x-python",
      "name": "python",
      "nbconvert_exporter": "python",
      "pygments_lexer": "ipython2",
      "version": "2.7.6"
    },
    "colab": {
      "name": "Eco_task.ipynb",
      "provenance": [],
      "collapsed_sections": []
    }
  },
  "cells": [
    {
      "cell_type": "markdown",
      "metadata": {
        "collapsed": false,
        "id": "h7mPcnqH-Mr7"
      },
      "source": [
        "# Задание 10.\n",
        "\n",
        "Вам предоставлен набор данных по качеству воздуха в китайских городах в виде csv файлов.\n",
        "Основная метрика, которая показывает качество воздуха - PM25(<a href='https://www.ncbi.nlm.nih.gov/pmc/articles/PMC4740125/'>подробнее о PM25</a>), указана в колонках, которые начинаются на PM_.\n",
        "Остальные столбцы содержат либо данные о времени, в которое были произведены измерения, либо данные о погоде в этот момент. DEWP - точка росы, HUMI - влажность, PRES - давление, TEMP - температура, cbwd - направление ветра, Iws - его скорость, precipation - осадки, Iprec - накопленные осадки.\n",
        "\n",
        "Для выполнения задания необходимо ответить на вопросы по данным, заполнив ячейки ноутбука. Сам ноутбук необходимо выложить в виде отдельного репозитория на github. Ссылку для клонирования репозитория необходимо приложить в решение задания."
      ]
    },
    {
      "cell_type": "markdown",
      "metadata": {
        "collapsed": false,
        "id": "GETGXBed-MsC"
      },
      "source": [
        "## 1. Загрузите в виде DataFrame набор данных по качеству воздуха Пекина\n",
        "Ссылка на набор данных: https://disk.yandex.ru/d/1UKJoV1ULW1NLQ"
      ]
    },
    {
      "cell_type": "code",
      "metadata": {
        "id": "NpIfawvqH4Ew"
      },
      "source": [
        "import pandas as pd\n",
        "import numpy as np"
      ],
      "execution_count": null,
      "outputs": []
    },
    {
      "cell_type": "code",
      "metadata": {
        "id": "zrDaRFiNH6RI"
      },
      "source": [
        "df = pd.read_csv('BeijingPM20100101_20151231.csv')"
      ],
      "execution_count": null,
      "outputs": []
    },
    {
      "cell_type": "markdown",
      "metadata": {
        "collapsed": false,
        "id": "KFK1zLIo-MsE"
      },
      "source": [
        "## 2. Сколько всего строк находится в наборе данных?"
      ]
    },
    {
      "cell_type": "code",
      "metadata": {
        "pycharm": {
          "name": "#%%\n"
        },
        "id": "1LId2k5P-MsF",
        "colab": {
          "base_uri": "https://localhost:8080/"
        },
        "outputId": "9540ecf4-a41f-4e1b-f487-7fcc1b11be21"
      },
      "source": [
        "len(df)"
      ],
      "execution_count": null,
      "outputs": [
        {
          "output_type": "execute_result",
          "data": {
            "text/plain": [
              "52584"
            ]
          },
          "metadata": {},
          "execution_count": 4
        }
      ]
    },
    {
      "cell_type": "markdown",
      "metadata": {
        "collapsed": false,
        "id": "zrXHBruB-MsF"
      },
      "source": [
        "## 3. Сколько измерений уровня загрязнения воздуха находится в наборе данных?"
      ]
    },
    {
      "cell_type": "code",
      "metadata": {
        "pycharm": {
          "name": "#%%\n"
        },
        "id": "j1PvUOzc-MsG",
        "colab": {
          "base_uri": "https://localhost:8080/"
        },
        "outputId": "6b663e58-d7f1-4941-91e1-3a641ef45187"
      },
      "source": [
        "len(df) * 4 - (df.PM_Dongsi.isna().sum() + df.PM_Dongsihuan.isna().sum() + df.PM_Nongzhanguan.isna().sum() + df['PM_US Post'].isna().sum())"
      ],
      "execution_count": null,
      "outputs": [
        {
          "output_type": "execute_result",
          "data": {
            "text/plain": [
              "120878"
            ]
          },
          "metadata": {},
          "execution_count": 5
        }
      ]
    },
    {
      "cell_type": "markdown",
      "metadata": {
        "collapsed": false,
        "id": "Tcc75tmu-MsH"
      },
      "source": [
        "## 4. Введите столбец среднего качества воздуха PM_mean с усреднением показаний со всех станций слежения."
      ]
    },
    {
      "cell_type": "code",
      "metadata": {
        "pycharm": {
          "name": "#%%\n"
        },
        "id": "wPTwpZaU-MsH"
      },
      "source": [
        "df['PM_Dongsi'] = df['PM_Dongsi'].fillna(0)\n",
        "df['PM_Dongsihuan'] = df['PM_Dongsihuan'].fillna(0)\n",
        "df['PM_Nongzhanguan'] = df['PM_Nongzhanguan'].fillna(0)\n",
        "df['PM_US Post'] = df['PM_US Post'].fillna(0)"
      ],
      "execution_count": null,
      "outputs": []
    },
    {
      "cell_type": "code",
      "metadata": {
        "colab": {
          "base_uri": "https://localhost:8080/"
        },
        "id": "uwPhzkHpI2Mw",
        "outputId": "69462ea2-2255-4ca6-aa38-7c32e12af69f"
      },
      "source": [
        "df['PM_mean'] = range(0, len(df))\n",
        "for i in range(0, len(df)):\n",
        "  df['PM_mean'][i] = (df['PM_Dongsi'][i] + df['PM_Dongsihuan'][i] + df['PM_Nongzhanguan'][i] + df['PM_US Post'][i]) / 4"
      ],
      "execution_count": null,
      "outputs": [
        {
          "output_type": "stream",
          "name": "stderr",
          "text": [
            "/usr/local/lib/python3.7/dist-packages/ipykernel_launcher.py:3: SettingWithCopyWarning: \n",
            "A value is trying to be set on a copy of a slice from a DataFrame\n",
            "\n",
            "See the caveats in the documentation: https://pandas.pydata.org/pandas-docs/stable/user_guide/indexing.html#returning-a-view-versus-a-copy\n",
            "  This is separate from the ipykernel package so we can avoid doing imports until\n"
          ]
        }
      ]
    },
    {
      "cell_type": "markdown",
      "metadata": {
        "collapsed": false,
        "id": "mDS1D21k-MsI"
      },
      "source": [
        "## 5. Какое направление ветра преобладает в Пекине?"
      ]
    },
    {
      "cell_type": "code",
      "metadata": {
        "pycharm": {
          "name": "#%%\n"
        },
        "id": "rBOz-6XF-MsI",
        "colab": {
          "base_uri": "https://localhost:8080/",
          "height": 35
        },
        "outputId": "7c4b4fba-7e3d-406c-9eae-7dab54c8e680"
      },
      "source": [
        "df['cbwd'].value_counts().idxmax()"
      ],
      "execution_count": null,
      "outputs": [
        {
          "output_type": "execute_result",
          "data": {
            "application/vnd.google.colaboratory.intrinsic+json": {
              "type": "string"
            },
            "text/plain": [
              "'SE'"
            ]
          },
          "metadata": {},
          "execution_count": 8
        }
      ]
    },
    {
      "cell_type": "markdown",
      "metadata": {
        "collapsed": false,
        "id": "dniLY6wM-MsJ"
      },
      "source": [
        "## 6. В какой день качество воздуха является наихудшим(самая большая концентрация частиц)? Вывести дату в типе данных datetime стандартной библиотеки Python."
      ]
    },
    {
      "cell_type": "code",
      "metadata": {
        "id": "X8UBb2hZW3E9"
      },
      "source": [
        "from datetime import date"
      ],
      "execution_count": null,
      "outputs": []
    },
    {
      "cell_type": "code",
      "source": [
        "print(date(day = df['day'][np.argmax(df.PM_mean)], month = df['month'][np.argmax(df.PM_mean)], year = df['year'][np.argmax(df.PM_mean)]))"
      ],
      "metadata": {
        "colab": {
          "base_uri": "https://localhost:8080/"
        },
        "id": "C0WpBKuxLeu5",
        "outputId": "c990f8a8-e815-4626-d614-b3ae541e4893"
      },
      "execution_count": null,
      "outputs": [
        {
          "output_type": "stream",
          "name": "stdout",
          "text": [
            "2014-02-14\n"
          ]
        }
      ]
    },
    {
      "cell_type": "markdown",
      "metadata": {
        "collapsed": false,
        "id": "-izzVUNh-MsK"
      },
      "source": [
        "## 7. Какой из сезонов в Пекине в среднем наименее неблагоприятный для легких за последние 2 года наблюдений?"
      ]
    },
    {
      "cell_type": "code",
      "source": [
        "print('Season', + df.groupby(['season'])['PM_mean'].sum().idxmin())"
      ],
      "metadata": {
        "colab": {
          "base_uri": "https://localhost:8080/"
        },
        "id": "3YGDs1pBNxh2",
        "outputId": "556d99c0-8e8c-4d36-f566-bd406136ee92"
      },
      "execution_count": null,
      "outputs": [
        {
          "output_type": "stream",
          "name": "stdout",
          "text": [
            "Season 2\n"
          ]
        }
      ]
    },
    {
      "cell_type": "markdown",
      "metadata": {
        "collapsed": false,
        "id": "JGI7Opyc-MsK"
      },
      "source": [
        "## 8. Коррелирует ли влажность с качеством воздуха?\n",
        "Можно воспользоваться корреляцией Пирсона из numpy, а также встроенными функциями Pandas."
      ]
    },
    {
      "cell_type": "code",
      "metadata": {
        "id": "C8_dzHvUbYJR"
      },
      "source": [
        "df.HUMI = df.HUMI.fillna(0)"
      ],
      "execution_count": null,
      "outputs": []
    },
    {
      "cell_type": "code",
      "metadata": {
        "pycharm": {
          "name": "#%%\n"
        },
        "id": "4h-nHlxR-MsL",
        "colab": {
          "base_uri": "https://localhost:8080/"
        },
        "outputId": "14fdadbf-5e69-4a10-a064-7b41713a1714"
      },
      "source": [
        "print(np.corrcoef(df['HUMI'], df.PM_mean))"
      ],
      "execution_count": null,
      "outputs": [
        {
          "output_type": "stream",
          "name": "stdout",
          "text": [
            "[[1.         0.26385179]\n",
            " [0.26385179 1.        ]]\n"
          ]
        }
      ]
    },
    {
      "cell_type": "markdown",
      "metadata": {
        "collapsed": false,
        "id": "eQLaAJ_3-MsL"
      },
      "source": [
        "## 9. Какой из сезонов в Пекине самый дождливый(в среднем по накоплению осадков)?"
      ]
    },
    {
      "cell_type": "code",
      "metadata": {
        "id": "_CxGBfa-k0BW",
        "colab": {
          "base_uri": "https://localhost:8080/"
        },
        "outputId": "d9ce52a8-7107-444f-d7c7-b290b32d74d5"
      },
      "source": [
        "df['Iprec'] = df['Iprec'].fillna(0)\n",
        "print('Season', + df.groupby(['season'])['Iprec'].sum().idxmax())"
      ],
      "execution_count": null,
      "outputs": [
        {
          "output_type": "stream",
          "name": "stdout",
          "text": [
            "Season 3\n"
          ]
        }
      ]
    },
    {
      "cell_type": "markdown",
      "metadata": {
        "collapsed": false,
        "id": "W9BT9xFF-MsM"
      },
      "source": [
        "## 10. Становится ли качество воздуха во время дождя лучше, чем оно было сразу перед дождем?"
      ]
    },
    {
      "cell_type": "code",
      "source": [
        "df['grade'] = range(0, len(df))\n",
        "for i in range(0, len(df)):\n",
        "  if df.Iprec[i] == 0:\n",
        "    df.grade[i] = 'no_rain'\n",
        "  else:\n",
        "    df.grade[i] = 'rain'"
      ],
      "metadata": {
        "id": "rSC-bPFKRGRx",
        "colab": {
          "base_uri": "https://localhost:8080/"
        },
        "outputId": "78c60c9e-5455-4db3-8cec-ce7c0d05bb6f"
      },
      "execution_count": null,
      "outputs": [
        {
          "output_type": "stream",
          "name": "stderr",
          "text": [
            "/usr/local/lib/python3.7/dist-packages/ipykernel_launcher.py:4: SettingWithCopyWarning: \n",
            "A value is trying to be set on a copy of a slice from a DataFrame\n",
            "\n",
            "See the caveats in the documentation: https://pandas.pydata.org/pandas-docs/stable/user_guide/indexing.html#returning-a-view-versus-a-copy\n",
            "  after removing the cwd from sys.path.\n",
            "/usr/local/lib/python3.7/dist-packages/pandas/core/indexing.py:670: SettingWithCopyWarning: \n",
            "A value is trying to be set on a copy of a slice from a DataFrame\n",
            "\n",
            "See the caveats in the documentation: https://pandas.pydata.org/pandas-docs/stable/user_guide/indexing.html#returning-a-view-versus-a-copy\n",
            "  iloc._setitem_with_indexer(indexer, value)\n",
            "/usr/local/lib/python3.7/dist-packages/ipykernel_launcher.py:6: SettingWithCopyWarning: \n",
            "A value is trying to be set on a copy of a slice from a DataFrame\n",
            "\n",
            "See the caveats in the documentation: https://pandas.pydata.org/pandas-docs/stable/user_guide/indexing.html#returning-a-view-versus-a-copy\n",
            "  \n"
          ]
        }
      ]
    },
    {
      "cell_type": "code",
      "source": [
        "if df.groupby(['grade'])['PM_mean'].sum().idxmin() == 'rain':\n",
        "  print('Во время дождя качество воздуха лучше.')\n",
        "else:\n",
        "    print('Во время дождя качество воздуха хуже.')"
      ],
      "metadata": {
        "colab": {
          "base_uri": "https://localhost:8080/"
        },
        "id": "jp8S5CG2UI5U",
        "outputId": "b66875fc-2765-40a0-fd26-cb3a2715191b"
      },
      "execution_count": null,
      "outputs": [
        {
          "output_type": "stream",
          "name": "stdout",
          "text": [
            "Во время дождя качество воздуха лучше.\n"
          ]
        }
      ]
    }
  ]
}